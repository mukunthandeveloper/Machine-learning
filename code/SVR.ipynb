{
 "cells": [
  {
   "cell_type": "code",
   "execution_count": 1,
   "id": "41408799",
   "metadata": {},
   "outputs": [],
   "source": [
    "\n",
    "import pandas as pd\n",
    "import numpy as np\n",
    "from sklearn.datasets import fetch_california_housing\n",
    "from sklearn.model_selection import train_test_split\n",
    "from sklearn.preprocessing import StandardScaler # <-- MUST-HAVE\n",
    "from sklearn.svm import SVR # <-- Note: Regressor, not Classifier!\n",
    "from sklearn.metrics import mean_squared_error, r2_score\n",
    "\n"
   ]
  },
  {
   "cell_type": "code",
   "execution_count": 2,
   "id": "29146ab6",
   "metadata": {},
   "outputs": [],
   "source": [
    "\n",
    "# --- Load the Data ---\n",
    "housing = fetch_california_housing()\n",
    "X = housing.data\n",
    "y = housing.target\n",
    "\n"
   ]
  },
  {
   "cell_type": "code",
   "execution_count": 3,
   "id": "3b90e02d",
   "metadata": {},
   "outputs": [],
   "source": [
    "\n",
    "# --- 2. Prepare Data ---\n",
    "X_train, X_test, y_train, y_test = train_test_split(X, y, test_size=0.2, random_state=42)\n",
    "\n",
    "# --- Scale the Data ---\n",
    "# Vijay: \"Okay, okay, I get it! Scale ALL THE THINGS!\" 😂\n",
    "# AK: \"Exactly!\"\n",
    "\n",
    "scaler = StandardScaler()\n",
    "X_train_scaled = scaler.fit_transform(X_train)\n",
    "X_test_scaled = scaler.transform(X_test)\n",
    "\n"
   ]
  },
  {
   "cell_type": "code",
   "execution_count": 4,
   "id": "2bca9efa",
   "metadata": {},
   "outputs": [
    {
     "name": "stdout",
     "output_type": "stream",
     "text": [
      "\n",
      "...Training the SVR... (this might take a few moments)\n",
      "...Model is Trained!...\n"
     ]
    }
   ],
   "source": [
    "\n",
    "# --- 3. Create & Train the Model ---\n",
    "# 1. Import (we did)\n",
    "# 2. Create an \"instance\"\n",
    "#    Let's try the 'rbf' kernel again, with default C=1.0\n",
    "model = SVR(kernel='rbf', C=1.0) # Epsilon defaults to 0.1\n",
    "\n",
    "# 3. TRAIN!\n",
    "# This finds the best \"street\" through the data\n",
    "# SVR can be slower, so this might take a bit longer than Linear Regression...\n",
    "print(\"\\n...Training the SVR... (this might take a few moments)\")\n",
    "model.fit(X_train_scaled, y_train)\n",
    "print(\"...Model is Trained!...\")\n",
    "\n"
   ]
  },
  {
   "cell_type": "code",
   "execution_count": 5,
   "id": "0ce12dd2",
   "metadata": {},
   "outputs": [
    {
     "name": "stdout",
     "output_type": "stream",
     "text": [
      "\n",
      "--- Model Evaluation (SVR) ---\n",
      "Root Mean Squared Error (RMSE): 0.60\n",
      "R-Squared (R²): 0.73\n",
      "\n",
      "--- For Comparison ---\n",
      "Linear Regression R² was: 0.58\n",
      "KNN Regression R² was:    0.69\n"
     ]
    }
   ],
   "source": [
    "\n",
    "# --- 4. Predict & Evaluate ---\n",
    "y_pred = model.predict(X_test_scaled)\n",
    "\n",
    "print(\"\\n--- Model Evaluation (SVR) ---\")\n",
    "rmse = np.sqrt(mean_squared_error(y_test, y_pred))\n",
    "r2 = r2_score(y_test, y_pred)\n",
    "\n",
    "print(f\"Root Mean Squared Error (RMSE): {rmse:.2f}\")\n",
    "print(f\"R-Squared (R²): {r2:.2f}\")\n",
    "\n",
    "print(\"\\n--- For Comparison ---\")\n",
    "print(f\"Linear Regression R² was: 0.58\")\n",
    "print(f\"KNN Regression R² was:    0.69\")\n",
    "\n"
   ]
  }
 ],
 "metadata": {
  "kernelspec": {
   "display_name": "ml",
   "language": "python",
   "name": "python3"
  },
  "language_info": {
   "codemirror_mode": {
    "name": "ipython",
    "version": 3
   },
   "file_extension": ".py",
   "mimetype": "text/x-python",
   "name": "python",
   "nbconvert_exporter": "python",
   "pygments_lexer": "ipython3",
   "version": "3.10.19"
  }
 },
 "nbformat": 4,
 "nbformat_minor": 5
}
