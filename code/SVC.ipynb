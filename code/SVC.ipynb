{
 "cells": [
  {
   "cell_type": "code",
   "execution_count": 1,
   "id": "bb4ffde6",
   "metadata": {},
   "outputs": [],
   "source": [
    "\n",
    "import pandas as pd\n",
    "import numpy as np\n",
    "from sklearn.datasets import load_breast_cancer\n",
    "from sklearn.model_selection import train_test_split\n",
    "from sklearn.preprocessing import StandardScaler # <-- MUST-HAVE\n",
    "from sklearn.svm import SVC # \"C\" stands for Classifier\n",
    "from sklearn.metrics import classification_report, confusion_matrix\n",
    "\n"
   ]
  },
  {
   "cell_type": "code",
   "execution_count": 2,
   "id": "85540818",
   "metadata": {},
   "outputs": [],
   "source": [
    "\n",
    "# --- Load the Data ---\n",
    "cancer = load_breast_cancer()\n",
    "X = cancer.data   # The 30 features\n",
    "y = cancer.target # The 2 classes (0 or 1)\n",
    "\n"
   ]
  },
  {
   "cell_type": "code",
   "execution_count": 3,
   "id": "7b236f50",
   "metadata": {},
   "outputs": [
    {
     "name": "stdout",
     "output_type": "stream",
     "text": [
      "Number of features: 30\n",
      "Number of samples: 569\n"
     ]
    }
   ],
   "source": [
    "\n",
    "# --- 2. Explore the Data (EDA) ---\n",
    "# It's a clean dataset, so we'll just check the info\n",
    "print(f\"Number of features: {X.shape[1]}\")\n",
    "print(f\"Number of samples: {X.shape[0]}\")\n",
    "# No missing values!\n",
    "\n"
   ]
  },
  {
   "cell_type": "code",
   "execution_count": 4,
   "id": "909284e2",
   "metadata": {},
   "outputs": [],
   "source": [
    "\n",
    "# --- 3. Prepare Data ---\n",
    "X_train, X_test, y_train, y_test = train_test_split(X, y, test_size=0.2, random_state=42)\n",
    "\n",
    "# --- Scale the Data ---\n",
    "# Vijay: \"Do I *really* have to scale?\"\n",
    "# AK: \"For SVM? YES. 1000%. It is *not optional*. The 'margin'\n",
    "# is a distance, so all features MUST be on the same scale.\"\n",
    "\n",
    "scaler = StandardScaler()\n",
    "X_train_scaled = scaler.fit_transform(X_train)\n",
    "X_test_scaled = scaler.transform(X_test)\n",
    "\n"
   ]
  },
  {
   "cell_type": "code",
   "execution_count": 5,
   "id": "2a412da6",
   "metadata": {},
   "outputs": [
    {
     "name": "stdout",
     "output_type": "stream",
     "text": [
      "\n",
      "...Training the SVM... (this can take a moment)\n",
      "...Model is Trained!...\n"
     ]
    }
   ],
   "source": [
    "\n",
    "# --- 4. Create & Train the Model ---\n",
    "# 1. Import (we did)\n",
    "# 2. Create an \"instance\"\n",
    "#    We'll use the 'rbf' kernel (the magic, non-linear one)\n",
    "#    and a 'C' of 1.0 (a good default)\n",
    "model = SVC(kernel='rbf', C=1.0, random_state=42)\n",
    "\n",
    "# 3. TRAIN!\n",
    "# This is where it finds the \"maximum margin hyperplane\"\n",
    "# It might take a second...\n",
    "print(\"\\n...Training the SVM... (this can take a moment)\")\n",
    "model.fit(X_train_scaled, y_train)\n",
    "print(\"...Model is Trained!...\")\n",
    "\n"
   ]
  },
  {
   "cell_type": "code",
   "execution_count": 6,
   "id": "b107f046",
   "metadata": {},
   "outputs": [
    {
     "name": "stdout",
     "output_type": "stream",
     "text": [
      "\n",
      "--- Model Evaluation ---\n",
      "[[41  2]\n",
      " [ 0 71]]\n",
      "               precision    recall  f1-score   support\n",
      "\n",
      "Malignant (0)       1.00      0.95      0.98        43\n",
      "   Benign (1)       0.97      1.00      0.99        71\n",
      "\n",
      "     accuracy                           0.98       114\n",
      "    macro avg       0.99      0.98      0.98       114\n",
      " weighted avg       0.98      0.98      0.98       114\n",
      "\n"
     ]
    }
   ],
   "source": [
    "\n",
    "# --- 5. Predict & Evaluate ---\n",
    "y_pred = model.predict(X_test_scaled)\n",
    "\n",
    "print(\"\\n--- Model Evaluation ---\")\n",
    "print(confusion_matrix(y_test, y_pred))\n",
    "\n",
    "# '0' is 'Malignant' (dangerous), '1' is 'Benign' (harmless)\n",
    "print(classification_report(y_test, y_pred, target_names=['Malignant (0)', 'Benign (1)']))\n",
    "\n"
   ]
  },
  {
   "cell_type": "code",
   "execution_count": null,
   "id": "01adcac9",
   "metadata": {},
   "outputs": [],
   "source": []
  }
 ],
 "metadata": {
  "kernelspec": {
   "display_name": "ml",
   "language": "python",
   "name": "python3"
  },
  "language_info": {
   "codemirror_mode": {
    "name": "ipython",
    "version": 3
   },
   "file_extension": ".py",
   "mimetype": "text/x-python",
   "name": "python",
   "nbconvert_exporter": "python",
   "pygments_lexer": "ipython3",
   "version": "3.10.19"
  }
 },
 "nbformat": 4,
 "nbformat_minor": 5
}
