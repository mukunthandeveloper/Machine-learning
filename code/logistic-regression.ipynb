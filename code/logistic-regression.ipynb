{
 "cells": [
  {
   "cell_type": "code",
   "execution_count": 1,
   "id": "0f8d0244",
   "metadata": {},
   "outputs": [
    {
     "name": "stdout",
     "output_type": "stream",
     "text": [
      "--- Here's a peek at our data ---\n",
      "   Pregnancies  Glucose  BloodPressure  SkinThickness  Insulin   BMI  \\\n",
      "0            6      148             72             35        0  33.6   \n",
      "1            1       85             66             29        0  26.6   \n",
      "2            8      183             64              0        0  23.3   \n",
      "3            1       89             66             23       94  28.1   \n",
      "4            0      137             40             35      168  43.1   \n",
      "\n",
      "   DiabetesPedigree  Age  Outcome  \n",
      "0             0.627   50        1  \n",
      "1             0.351   31        0  \n",
      "2             0.672   32        1  \n",
      "3             0.167   21        0  \n",
      "4             2.288   33        1  \n"
     ]
    }
   ],
   "source": [
    "\n",
    "import pandas as pd\n",
    "import numpy as np\n",
    "import seaborn as sns\n",
    "import matplotlib.pyplot as plt\n",
    "\n",
    "# --- Our ML tools ---\n",
    "from sklearn.model_selection import train_test_split\n",
    "from sklearn.preprocessing import StandardScaler\n",
    "from sklearn.linear_model import LogisticRegression\n",
    "\n",
    "# --- Our Evaluation tools (from Lesson 7!) ---\n",
    "from sklearn.metrics import accuracy_score, confusion_matrix, classification_report\n",
    "\n",
    "# --- Load the Data ---\n",
    "# This dataset is a classic. We'll load it from a reliable web URL.\n",
    "url = \"https://raw.githubusercontent.com/jbrownlee/Datasets/master/pima-indians-diabetes.data.csv\"\n",
    "# The file doesn't have a header, so we'll add the column names\n",
    "columns = ['Pregnancies', 'Glucose', 'BloodPressure', 'SkinThickness', 'Insulin', 'BMI', 'DiabetesPedigree', 'Age', 'Outcome']\n",
    "df = pd.read_csv(url, header=None, names=columns)\n",
    "\n",
    "print(\"--- Here's a peek at our data ---\")\n",
    "print(df.head())\n",
    "\n"
   ]
  },
  {
   "cell_type": "code",
   "execution_count": 3,
   "id": "09c0580c",
   "metadata": {},
   "outputs": [
    {
     "name": "stdout",
     "output_type": "stream",
     "text": [
      "\n",
      "--- Checking for missing values... ---\n",
      "<class 'pandas.core.frame.DataFrame'>\n",
      "RangeIndex: 768 entries, 0 to 767\n",
      "Data columns (total 9 columns):\n",
      " #   Column            Non-Null Count  Dtype  \n",
      "---  ------            --------------  -----  \n",
      " 0   Pregnancies       768 non-null    int64  \n",
      " 1   Glucose           768 non-null    int64  \n",
      " 2   BloodPressure     768 non-null    int64  \n",
      " 3   SkinThickness     768 non-null    int64  \n",
      " 4   Insulin           768 non-null    int64  \n",
      " 5   BMI               768 non-null    float64\n",
      " 6   DiabetesPedigree  768 non-null    float64\n",
      " 7   Age               768 non-null    int64  \n",
      " 8   Outcome           768 non-null    int64  \n",
      "dtypes: float64(2), int64(7)\n",
      "memory usage: 54.1 KB\n",
      "None\n",
      "\n",
      "--- Now let's check .info() again... ---\n",
      "<class 'pandas.core.frame.DataFrame'>\n",
      "RangeIndex: 768 entries, 0 to 767\n",
      "Data columns (total 9 columns):\n",
      " #   Column            Non-Null Count  Dtype  \n",
      "---  ------            --------------  -----  \n",
      " 0   Pregnancies       768 non-null    int64  \n",
      " 1   Glucose           763 non-null    float64\n",
      " 2   BloodPressure     733 non-null    float64\n",
      " 3   SkinThickness     541 non-null    float64\n",
      " 4   Insulin           394 non-null    float64\n",
      " 5   BMI               757 non-null    float64\n",
      " 6   DiabetesPedigree  768 non-null    float64\n",
      " 7   Age               768 non-null    int64  \n",
      " 8   Outcome           768 non-null    int64  \n",
      "dtypes: float64(6), int64(3)\n",
      "memory usage: 54.1 KB\n",
      "None\n",
      "\n",
      "--- Data is all clean! ---\n"
     ]
    }
   ],
   "source": [
    "print(\"\\n--- Checking for missing values... ---\")\n",
    "print(df.info())\n",
    "\n",
    "# Vijay: \"Sweet! It says 0 nulls. We're done, right?\"\n",
    "# AK: \"Wait! 🤨 Look at the data. Can you have a BloodPressure of 0? Or Glucose of 0?\"\n",
    "# Vijay: \"No... that would mean you're... 🤯\"\n",
    "# AK: \"Exactly. This is a 'hidden' missing value. 0 is just a placeholder.\n",
    "# We need to replace these 0s with 'NaN' (Not a Number) so Pandas can see them.\"\n",
    "\n",
    "# Let's replace 0s in these specific columns\n",
    "cols_with_zeros = ['Glucose', 'BloodPressure', 'SkinThickness', 'Insulin', 'BMI']\n",
    "df[cols_with_zeros] = df[cols_with_zeros].replace(0, np.nan)\n",
    "\n",
    "print(\"\\n--- Now let's check .info() again... ---\")\n",
    "print(df.info()) # Ah! Now we see the missing values.\n",
    "\n",
    "# Let's fill these missing values with the 'median' (the middle value)\n",
    "# (We learned this in Lesson 4!)\n",
    "for col in cols_with_zeros:\n",
    "    df[col] = df[col].fillna(df[col].median())\n",
    "    \n",
    "print(\"\\n--- Data is all clean! ---\")\n",
    "\n",
    "# --- Define X and y ---\n",
    "X = df.drop('Outcome', axis=1) # X is all columns EXCEPT our target\n",
    "y = df['Outcome']              # y is ONLY the 'Outcome' (0 or 1)\n",
    "\n",
    "# --- Split the Data ---\n",
    "# The GOLDEN RULE!\n",
    "X_train, X_test, y_train, y_test = train_test_split(X, y, test_size=0.2, random_state=42)\n",
    "\n",
    "# --- Scale the Data ---\n",
    "# This is CRITICAL for Gradient Descent to work well.\n",
    "# It puts all our features on the same scale.\n",
    "scaler = StandardScaler()\n",
    "X_train_scaled = scaler.fit_transform(X_train)\n",
    "X_test_scaled = scaler.transform(X_test) # Remember: only .transform() on the test set!\n",
    "\n",
    "\n",
    "\n"
   ]
  },
  {
   "cell_type": "code",
   "execution_count": 4,
   "id": "f48d0550",
   "metadata": {},
   "outputs": [
    {
     "name": "stdout",
     "output_type": "stream",
     "text": [
      "\n",
      "...Training the model...\n",
      "...Model is Trained!...\n"
     ]
    }
   ],
   "source": [
    "\n",
    "# 1. Import (we already did)\n",
    "# 2. Create an \"instance\" of the model\n",
    "#    'random_state=42' just makes sure we get the same result every time\n",
    "model = LogisticRegression(random_state=42)\n",
    "\n",
    "# 3. TRAIN!\n",
    "# This is where Gradient Descent finds the lowest Log Loss.\n",
    "print(\"\\n...Training the model...\")\n",
    "model.fit(X_train_scaled, y_train)\n",
    "print(\"...Model is Trained!...\")\n",
    "\n"
   ]
  },
  {
   "cell_type": "code",
   "execution_count": 7,
   "id": "cfb3c002",
   "metadata": {},
   "outputs": [
    {
     "name": "stdout",
     "output_type": "stream",
     "text": [
      "\n",
      "--- Model Evaluation ---\n",
      "Accuracy: 75.32%\n",
      "\n",
      "--- Confusion Matrix ---\n",
      "[[82 17]\n",
      " [21 34]]\n",
      "\n",
      "--- Classification Report ---\n",
      "              precision    recall  f1-score   support\n",
      "\n",
      "           0       0.80      0.83      0.81        99\n",
      "           1       0.67      0.62      0.64        55\n",
      "\n",
      "    accuracy                           0.75       154\n",
      "   macro avg       0.73      0.72      0.73       154\n",
      "weighted avg       0.75      0.75      0.75       154\n",
      "\n"
     ]
    }
   ],
   "source": [
    "# 4. Predict\n",
    "# Let's see what it guesses for our 20% \"unseen\" test data\n",
    "y_pred = model.predict(X_test_scaled)\n",
    "\n",
    "# 5. Evaluate (Get the score!)\n",
    "print(\"\\n--- Model Evaluation ---\")\n",
    "\n",
    "# First, let's check simple Accuracy\n",
    "acc = accuracy_score(y_test, y_pred)\n",
    "print(f\"Accuracy: {acc*100:.2f}%\")\n",
    "\n",
    "# But we know Accuracy is misleading! Let's check the Confusion Matrix\n",
    "print(\"\\n--- Confusion Matrix ---\")\n",
    "# (Remember: [[TN, FP], [FN, TP]])\n",
    "print(confusion_matrix(y_test, y_pred))\n",
    "\n",
    "# And the most important report:\n",
    "print(\"\\n--- Classification Report ---\")\n",
    "# This gives us Precision, Recall, and F1-Score all at once!\n",
    "print(classification_report(y_test, y_pred))\n",
    "\n"
   ]
  }
 ],
 "metadata": {
  "kernelspec": {
   "display_name": "ml",
   "language": "python",
   "name": "python3"
  },
  "language_info": {
   "codemirror_mode": {
    "name": "ipython",
    "version": 3
   },
   "file_extension": ".py",
   "mimetype": "text/x-python",
   "name": "python",
   "nbconvert_exporter": "python",
   "pygments_lexer": "ipython3",
   "version": "3.10.19"
  }
 },
 "nbformat": 4,
 "nbformat_minor": 5
}
