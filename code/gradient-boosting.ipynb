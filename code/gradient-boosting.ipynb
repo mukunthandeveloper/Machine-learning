{
 "cells": [
  {
   "cell_type": "code",
   "execution_count": 1,
   "id": "218c81dd",
   "metadata": {},
   "outputs": [],
   "source": [
    "\n",
    "import pandas as pd\n",
    "import numpy as np\n",
    "# --- Our ML tools ---\n",
    "from sklearn.datasets import fetch_california_housing\n",
    "from sklearn.model_selection import train_test_split\n",
    "# We don't necessarily need StandardScaler, but it doesn't hurt\n",
    "from sklearn.preprocessing import StandardScaler\n",
    "from sklearn.ensemble import GradientBoostingRegressor # <-- The star!\n",
    "# --- Our Evaluation tools ---\n",
    "from sklearn.metrics import mean_squared_error, r2_score\n",
    "\n",
    "# --- Load the Data ---\n",
    "housing = fetch_california_housing()\n",
    "X = housing.data\n",
    "y = housing.target\n",
    "\n"
   ]
  },
  {
   "cell_type": "code",
   "execution_count": 2,
   "id": "2c394e7a",
   "metadata": {},
   "outputs": [],
   "source": [
    "\n",
    "# --- 2. Prepare Data ---\n",
    "X_train, X_test, y_train, y_test = train_test_split(X, y, test_size=0.2, random_state=42)\n",
    "\n",
    "# Scaling isn't strictly required, but often helps Gradient Boosting converge faster\n",
    "scaler = StandardScaler()\n",
    "X_train_scaled = scaler.fit_transform(X_train)\n",
    "X_test_scaled = scaler.transform(X_test)\n",
    "\n"
   ]
  },
  {
   "cell_type": "code",
   "execution_count": 3,
   "id": "20289fed",
   "metadata": {},
   "outputs": [
    {
     "name": "stdout",
     "output_type": "stream",
     "text": [
      "\n",
      "...Training the Gradient Boosting model...\n",
      "...Model Trained!...\n"
     ]
    }
   ],
   "source": [
    "\n",
    "# --- 3. Create & Train ---\n",
    "# 1. Import (done)\n",
    "# 2. Create instance\n",
    "#    Let's use default settings first (often a good start)\n",
    "#    n_estimators=100, learning_rate=0.1, max_depth=3\n",
    "model = GradientBoostingRegressor(random_state=42)\n",
    "\n",
    "# 3. TRAIN!\n",
    "# This builds the trees sequentially, each learning from the last's errors\n",
    "print(\"\\n...Training the Gradient Boosting model...\")\n",
    "model.fit(X_train_scaled, y_train) # Using scaled data\n",
    "print(\"...Model Trained!...\")\n",
    "\n"
   ]
  },
  {
   "cell_type": "code",
   "execution_count": 4,
   "id": "c45ea631",
   "metadata": {},
   "outputs": [
    {
     "name": "stdout",
     "output_type": "stream",
     "text": [
      "\n",
      "--- Model Evaluation (Gradient Boosting) ---\n",
      "Root Mean Squared Error (RMSE): 0.54\n",
      "R-Squared (R²): 0.78\n",
      "\n",
      "--- For Comparison ---\n",
      "Linear Regression R² was: 0.58\n",
      "KNN Regression R² was:    0.69\n",
      "SVR R² was:               0.73\n"
     ]
    }
   ],
   "source": [
    "\n",
    "# --- 4. Predict & Evaluate ---\n",
    "y_pred = model.predict(X_test_scaled)\n",
    "\n",
    "print(\"\\n--- Model Evaluation (Gradient Boosting) ---\")\n",
    "rmse = np.sqrt(mean_squared_error(y_test, y_pred))\n",
    "r2 = r2_score(y_test, y_pred)\n",
    "\n",
    "print(f\"Root Mean Squared Error (RMSE): {rmse:.2f}\")\n",
    "print(f\"R-Squared (R²): {r2:.2f}\")\n",
    "\n",
    "print(\"\\n--- For Comparison ---\")\n",
    "print(f\"Linear Regression R² was: 0.58\")\n",
    "print(f\"KNN Regression R² was:    0.69\")\n",
    "print(f\"SVR R² was:               0.73\")\n",
    "\n"
   ]
  }
 ],
 "metadata": {
  "kernelspec": {
   "display_name": "ml",
   "language": "python",
   "name": "python3"
  },
  "language_info": {
   "codemirror_mode": {
    "name": "ipython",
    "version": 3
   },
   "file_extension": ".py",
   "mimetype": "text/x-python",
   "name": "python",
   "nbconvert_exporter": "python",
   "pygments_lexer": "ipython3",
   "version": "3.10.19"
  }
 },
 "nbformat": 4,
 "nbformat_minor": 5
}
