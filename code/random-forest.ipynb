{
 "cells": [
  {
   "cell_type": "code",
   "execution_count": 1,
   "id": "03bc58c0",
   "metadata": {},
   "outputs": [
    {
     "name": "stdout",
     "output_type": "stream",
     "text": [
      "--- Raw Data ---\n",
      "   survived  pclass     sex   age  sibsp  parch     fare embarked  class  \\\n",
      "0         0       3    male  22.0      1      0   7.2500        S  Third   \n",
      "1         1       1  female  38.0      1      0  71.2833        C  First   \n",
      "2         1       3  female  26.0      0      0   7.9250        S  Third   \n",
      "3         1       1  female  35.0      1      0  53.1000        S  First   \n",
      "4         0       3    male  35.0      0      0   8.0500        S  Third   \n",
      "\n",
      "     who  adult_male deck  embark_town alive  alone  \n",
      "0    man        True  NaN  Southampton    no  False  \n",
      "1  woman       False    C    Cherbourg   yes  False  \n",
      "2  woman       False  NaN  Southampton   yes   True  \n",
      "3  woman       False    C  Southampton   yes  False  \n",
      "4    man        True  NaN  Southampton    no   True  \n"
     ]
    }
   ],
   "source": [
    "\n",
    "import pandas as pd\n",
    "import numpy as np\n",
    "import matplotlib.pyplot as plt\n",
    "import seaborn as sns # Added for heatmap later if needed\n",
    "\n",
    "# --- Our ML tools ---\n",
    "from sklearn.model_selection import train_test_split\n",
    "# We need the Encoder from last time for 'sex'\n",
    "from sklearn.preprocessing import OneHotEncoder # Example if we didn't use get_dummies\n",
    "from sklearn.ensemble import RandomForestClassifier # <-- The star of the show!\n",
    "\n",
    "# --- Our Evaluation tools ---\n",
    "from sklearn.metrics import accuracy_score, classification_report, confusion_matrix\n",
    "\n",
    "# --- Load the Data ---\n",
    "df = sns.load_dataset('titanic')\n",
    "print(\"--- Raw Data ---\")\n",
    "print(df.head())\n",
    "\n"
   ]
  },
  {
   "cell_type": "code",
   "execution_count": 2,
   "id": "ef3ddb72",
   "metadata": {},
   "outputs": [
    {
     "name": "stdout",
     "output_type": "stream",
     "text": [
      "\n",
      "--- Clean, Encoded Data ---\n",
      "   survived  pclass   age     fare  sibsp  parch  sex_male\n",
      "0         0       3  22.0   7.2500      1      0      True\n",
      "1         1       1  38.0  71.2833      1      0     False\n",
      "2         1       3  26.0   7.9250      0      0     False\n",
      "3         1       1  35.0  53.1000      1      0     False\n",
      "4         0       3  35.0   8.0500      0      0      True\n"
     ]
    }
   ],
   "source": [
    "\n",
    "# --- 2. Prepare the Data ---\n",
    "# Select features and handle missing age\n",
    "df_clean = df[['survived', 'pclass', 'sex', 'age', 'fare', 'sibsp', 'parch']].copy() # Added sibsp/parch\n",
    "df_clean['age'] = df_clean['age'].fillna(df_clean['age'].median())\n",
    "\n",
    "# One-Hot Encode 'sex' (using get_dummies is easiest)\n",
    "df_clean = pd.get_dummies(df_clean, columns=['sex'], drop_first=True)\n",
    "\n",
    "print(\"\\n--- Clean, Encoded Data ---\")\n",
    "print(df_clean.head())\n",
    "\n",
    "# --- Define X and y ---\n",
    "X = df_clean.drop('survived', axis=1)\n",
    "y = df_clean['survived']\n",
    "\n",
    "# --- Split the Data ---\n",
    "X_train, X_test, y_train, y_test = train_test_split(X, y, test_size=0.2, random_state=42)\n",
    "\n",
    "# --- Scale Data? ---\n",
    "# Vijay: \"Do we need StandardScaler?\"\n",
    "# AK: \"Nope! Random Forest (like Decision Trees) doesn't need it!\" 😄\n",
    "\n"
   ]
  },
  {
   "cell_type": "code",
   "execution_count": 3,
   "id": "b98b46f8",
   "metadata": {},
   "outputs": [
    {
     "name": "stdout",
     "output_type": "stream",
     "text": [
      "\n",
      "...Training the Random Forest (100 trees)...\n",
      "...Forest Grown!...\n"
     ]
    }
   ],
   "source": [
    "\n",
    "# --- 3. Create & Train ---\n",
    "# 1. Import (done)\n",
    "# 2. Create instance\n",
    "#    Let's use 100 trees as a good starting point\n",
    "model = RandomForestClassifier(n_estimators=100, random_state=42)\n",
    "\n",
    "# 3. TRAIN!\n",
    "# This builds 100 slightly different trees using our random tricks\n",
    "print(\"\\n...Training the Random Forest (100 trees)...\")\n",
    "model.fit(X_train, y_train) # Using unscaled data!\n",
    "print(\"...Forest Grown!...\")\n",
    "\n"
   ]
  },
  {
   "cell_type": "code",
   "execution_count": 4,
   "id": "bb8cba5d",
   "metadata": {},
   "outputs": [
    {
     "name": "stdout",
     "output_type": "stream",
     "text": [
      "\n",
      "--- Model Evaluation ---\n",
      "Accuracy: 80.45%\n",
      "              precision    recall  f1-score   support\n",
      "\n",
      "           0       0.82      0.85      0.84       105\n",
      "           1       0.77      0.74      0.76        74\n",
      "\n",
      "    accuracy                           0.80       179\n",
      "   macro avg       0.80      0.80      0.80       179\n",
      "weighted avg       0.80      0.80      0.80       179\n",
      "\n",
      "\n",
      "--- Feature Importances ---\n",
      "    Feature  Importance\n",
      "2      fare    0.291130\n",
      "5  sex_male    0.280818\n",
      "1       age    0.257658\n",
      "0    pclass    0.086700\n",
      "3     sibsp    0.047756\n",
      "4     parch    0.035939\n"
     ]
    },
    {
     "data": {
      "image/png": "[encoded data removed]",
      "text/plain": [
       "<Figure size 1000x600 with 1 Axes>"
      ]
     },
     "metadata": {},
     "output_type": "display_data"
    }
   ],
   "source": [
    "\n",
    "# --- 4. Predict & Evaluate ---\n",
    "y_pred = model.predict(X_test)\n",
    "\n",
    "print(\"\\n--- Model Evaluation ---\")\n",
    "acc = accuracy_score(y_test, y_pred)\n",
    "print(f\"Accuracy: {acc*100:.2f}%\")\n",
    "print(classification_report(y_test, y_pred))\n",
    "\n",
    "# --- Feature Importance! ---\n",
    "print(\"\\n--- Feature Importances ---\")\n",
    "importances = model.feature_importances_\n",
    "feature_names = X.columns\n",
    "# Combine names and scores, then sort\n",
    "feature_importance_df = pd.DataFrame({'Feature': feature_names, 'Importance': importances})\n",
    "feature_importance_df = feature_importance_df.sort_values(by='Importance', ascending=False)\n",
    "print(feature_importance_df)\n",
    "\n",
    "# Optional: Plot feature importances\n",
    "plt.figure(figsize=(10, 6))\n",
    "sns.barplot(x='Importance', y='Feature', data=feature_importance_df)\n",
    "plt.title('Feature Importance from Random Forest')\n",
    "plt.show()\n",
    "\n"
   ]
  },
  {
   "cell_type": "code",
   "execution_count": null,
   "id": "0b9d9491",
   "metadata": {},
   "outputs": [],
   "source": []
  }
 ],
 "metadata": {
  "kernelspec": {
   "display_name": "ml",
   "language": "python",
   "name": "python3"
  },
  "language_info": {
   "codemirror_mode": {
    "name": "ipython",
    "version": 3
   },
   "file_extension": ".py",
   "mimetype": "text/x-python",
   "name": "python",
   "nbconvert_exporter": "python",
   "pygments_lexer": "ipython3",
   "version": "3.10.19"
  }
 },
 "nbformat": 4,
 "nbformat_minor": 5
}
